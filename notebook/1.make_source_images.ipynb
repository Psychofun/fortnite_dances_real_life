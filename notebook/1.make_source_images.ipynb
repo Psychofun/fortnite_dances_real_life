{
 "cells": [
  {
   "cell_type": "code",
   "execution_count": null,
   "metadata": {
    "colab": {
     "base_uri": "https://localhost:8080/",
     "height": 35
    },
    "colab_type": "code",
    "executionInfo": {
     "elapsed": 495,
     "status": "ok",
     "timestamp": 1559977269702,
     "user": {
      "displayName": "Alan Luis Vergel Juárez",
      "photoUrl": "",
      "userId": "17609825801325148392"
     },
     "user_tz": 300
    },
    "id": "1ghOuV1nJ8Uy",
    "outputId": "856d49bb-cdea-4049-85e2-31540f9c9bf4"
   },
   "outputs": [],
   "source": [
    "import os"
   ]
  },
  {
   "cell_type": "markdown",
   "metadata": {
    "colab_type": "text",
    "id": "S-uYW5ENLe0V"
   },
   "source": [
    "# Mount File System for Working on Colaboratory"
   ]
  },
  {
   "cell_type": "markdown",
   "metadata": {
    "colab_type": "text",
    "id": "pF272MmRLbvf"
   },
   "source": [
    "# Running or importing .py Files"
   ]
  },
  {
   "cell_type": "code",
   "execution_count": null,
   "metadata": {
    "colab": {
     "base_uri": "https://localhost:8080/",
     "height": 129
    },
    "colab_type": "code",
    "executionInfo": {
     "elapsed": 38352,
     "status": "ok",
     "timestamp": 1559977307596,
     "user": {
      "displayName": "Alan Luis Vergel Juárez",
      "photoUrl": "",
      "userId": "17609825801325148392"
     },
     "user_tz": 300
    },
    "id": "C6pH56x2J8ud",
    "outputId": "21aedae5-0c63-4637-8331-a4a383d62b8f"
   },
   "outputs": [],
   "source": [
    "from google.colab import drive\n",
    "drive.mount('/content/drive')"
   ]
  },
  {
   "cell_type": "markdown",
   "metadata": {
    "colab_type": "text",
    "id": "yF6_T35WDdRN"
   },
   "source": [
    "#Change working directory"
   ]
  },
  {
   "cell_type": "code",
   "execution_count": null,
   "metadata": {
    "colab": {
     "base_uri": "https://localhost:8080/",
     "height": 35
    },
    "colab_type": "code",
    "executionInfo": {
     "elapsed": 39186,
     "status": "ok",
     "timestamp": 1559977308454,
     "user": {
      "displayName": "Alan Luis Vergel Juárez",
      "photoUrl": "",
      "userId": "17609825801325148392"
     },
     "user_tz": 300
    },
    "id": "4zAzX0u-KBAg",
    "outputId": "bd65b04e-740a-4282-dfcb-6fa81be062fe"
   },
   "outputs": [],
   "source": [
    "!ls"
   ]
  },
  {
   "cell_type": "code",
   "execution_count": null,
   "metadata": {
    "colab": {
     "base_uri": "https://localhost:8080/",
     "height": 256
    },
    "colab_type": "code",
    "executionInfo": {
     "elapsed": 40012,
     "status": "ok",
     "timestamp": 1559977309301,
     "user": {
      "displayName": "Alan Luis Vergel Juárez",
      "photoUrl": "",
      "userId": "17609825801325148392"
     },
     "user_tz": 300
    },
    "id": "tyrxIXPtDvhp",
    "outputId": "39862e61-f18e-4354-8d48-3538b6a765c4"
   },
   "outputs": [],
   "source": [
    "!ls 'drive/My Drive/pytorch-EverybodyDanceNow/notebook'"
   ]
  },
  {
   "cell_type": "code",
   "execution_count": null,
   "metadata": {
    "colab": {},
    "colab_type": "code",
    "id": "GSsevlhMDcJ0"
   },
   "outputs": [],
   "source": [
    "import os\n",
    "os.chdir('drive/My Drive/pytorch-EverybodyDanceNow/notebook')"
   ]
  },
  {
   "cell_type": "code",
   "execution_count": null,
   "metadata": {
    "colab": {},
    "colab_type": "code",
    "id": "uC5YXwhGJ8zw"
   },
   "outputs": [],
   "source": [
    "import os\n",
    "import numpy as np\n",
    "import torch\n",
    "import time\n",
    "import pickle\n",
    "import matplotlib.pyplot as plt\n",
    "from collections import OrderedDict\n",
    "from torch.autograd import Variable\n",
    "from pathlib import Path\n",
    "\n",
    "%matplotlib inline"
   ]
  },
  {
   "cell_type": "code",
   "execution_count": null,
   "metadata": {
    "colab": {
     "base_uri": "https://localhost:8080/",
     "height": 35
    },
    "colab_type": "code",
    "executionInfo": {
     "elapsed": 583,
     "status": "ok",
     "timestamp": 1559977328707,
     "user": {
      "displayName": "Alan Luis Vergel Juárez",
      "photoUrl": "",
      "userId": "17609825801325148392"
     },
     "user_tz": 300
    },
    "id": "QHonnhjbJ83k",
    "outputId": "5aca6dcf-e6d2-4138-bef7-7e68d0e59226"
   },
   "outputs": [],
   "source": [
    "pix2pixhd_dir = Path('../src/pix2pixHD/')\n",
    "\n",
    "import sys\n",
    "sys.path.append(str(pix2pixhd_dir))\n",
    "\n",
    "print(str(pix2pixhd_dir))"
   ]
  },
  {
   "cell_type": "code",
   "execution_count": null,
   "metadata": {
    "colab": {},
    "colab_type": "code",
    "id": "tWwknmiyJ8_k"
   },
   "outputs": [],
   "source": [
    "%load_ext autoreload"
   ]
  },
  {
   "cell_type": "code",
   "execution_count": null,
   "metadata": {
    "colab": {},
    "colab_type": "code",
    "id": "gT_dK2Z2J9DA"
   },
   "outputs": [],
   "source": [
    "%autoreload 2"
   ]
  },
  {
   "cell_type": "markdown",
   "metadata": {
    "colab_type": "text",
    "id": "xpDpRZ3_95hm"
   },
   "source": [
    "# Download and extract video"
   ]
  },
  {
   "cell_type": "code",
   "execution_count": null,
   "metadata": {
    "ExecuteTime": {
     "end_time": "2018-09-10T07:17:36.965608Z",
     "start_time": "2018-09-10T07:17:36.806321Z"
    },
    "colab": {},
    "colab_type": "code",
    "id": "yUU8C0qz95hr"
   },
   "outputs": [],
   "source": [
    "import cv2\n",
    "from pathlib import Path"
   ]
  },
  {
   "cell_type": "code",
   "execution_count": null,
   "metadata": {
    "ExecuteTime": {
     "end_time": "2018-09-10T07:17:37.378352Z",
     "start_time": "2018-09-10T07:17:37.370617Z"
    },
    "colab": {
     "base_uri": "https://localhost:8080/",
     "height": 54
    },
    "colab_type": "code",
    "executionInfo": {
     "elapsed": 444,
     "status": "ok",
     "timestamp": 1559977389983,
     "user": {
      "displayName": "Alan Luis Vergel Juárez",
      "photoUrl": "",
      "userId": "17609825801325148392"
     },
     "user_tz": 300
    },
    "id": "2uDRO1tb95h3",
    "outputId": "50b81c64-2945-40e4-d279-61ec9883fc74"
   },
   "outputs": [],
   "source": [
    "save_dir = Path('../data/source/')\n",
    "\n",
    "print(save_dir)\n",
    "\n",
    "# comment (save_dir.mkdir() ) if path exists\n",
    "#save_dir.mkdir(True)\n",
    "img_dir = save_dir.joinpath('images')\n",
    "#img_dir.mkdir()\n",
    "\n",
    "print(img_dir)"
   ]
  },
  {
   "cell_type": "markdown",
   "metadata": {
    "ExecuteTime": {
     "end_time": "2018-09-10T07:17:40.030886Z",
     "start_time": "2018-09-10T07:17:37.729714Z"
    },
    "colab_type": "text",
    "id": "nWstnWlz95h-"
   },
   "source": [
    "# Get Frames from Video"
   ]
  },
  {
   "cell_type": "code",
   "execution_count": null,
   "metadata": {
    "ExecuteTime": {
     "end_time": "2018-09-10T07:17:53.162745Z",
     "start_time": "2018-09-10T07:17:40.032189Z"
    },
    "colab": {
     "base_uri": "https://localhost:8080/",
     "height": 72
    },
    "colab_type": "code",
    "executionInfo": {
     "elapsed": 134118,
     "status": "ok",
     "timestamp": 1559977577787,
     "user": {
      "displayName": "Alan Luis Vergel Juárez",
      "photoUrl": "",
      "userId": "17609825801325148392"
     },
     "user_tz": 300
    },
    "id": "ynlqklIW95iB",
    "outputId": "df94a4c6-3413-45df-9aa4-8b5b3084d761"
   },
   "outputs": [],
   "source": [
    "print(str(save_dir.joinpath('file_name.mp4')))\n",
    "cap = cv2.VideoCapture( str(save_dir.joinpath('file_name.mp4')))\n",
    "print(cap.isOpened())\n",
    "\n",
    "i = 0\n",
    "while(cap.isOpened()):\n",
    "    flag, frame = cap.read()\n",
    "    \n",
    "    if flag == False:\n",
    "        break \n",
    "    cv2.imwrite(str(img_dir.joinpath(f'img_{i:05d}.png')), frame)\n",
    "    i += 1\n",
    "print(\"Number of frames:\", i)"
   ]
  },
  {
   "cell_type": "markdown",
   "metadata": {
    "colab_type": "text",
    "id": "8IGkvNJk95iJ"
   },
   "source": [
    "# Pose estimation (OpenPose)"
   ]
  },
  {
   "cell_type": "code",
   "execution_count": null,
   "metadata": {
    "ExecuteTime": {
     "end_time": "2018-09-10T07:17:54.776521Z",
     "start_time": "2018-09-10T07:17:54.553254Z"
    },
    "colab": {},
    "colab_type": "code",
    "id": "8rky8wrY95iL"
   },
   "outputs": [],
   "source": [
    "import numpy as np\n",
    "import matplotlib.pyplot as plt\n",
    "import torch\n",
    "from tqdm import tqdm\n",
    "\n",
    "%matplotlib inline"
   ]
  },
  {
   "cell_type": "code",
   "execution_count": null,
   "metadata": {
    "ExecuteTime": {
     "end_time": "2018-09-10T07:17:55.192338Z",
     "start_time": "2018-09-10T07:17:55.173456Z"
    },
    "colab": {},
    "colab_type": "code",
    "id": "F9q3gvet95iS"
   },
   "outputs": [],
   "source": [
    "openpose_dir = Path('../src/pytorch_Realtime_Multi-Person_Pose_Estimation/')\n",
    "\n",
    "import sys\n",
    "sys.path.append(str(openpose_dir))\n",
    "sys.path.append('../src/utils')\n",
    "\n"
   ]
  },
  {
   "cell_type": "code",
   "execution_count": null,
   "metadata": {},
   "outputs": [],
   "source": [
    "import sys\n",
    "#!{sys.executable} -m pip install scikit-image"
   ]
  },
  {
   "cell_type": "code",
   "execution_count": null,
   "metadata": {
    "ExecuteTime": {
     "end_time": "2018-09-10T07:17:56.164221Z",
     "start_time": "2018-09-10T07:17:55.748391Z"
    },
    "colab": {},
    "colab_type": "code",
    "id": "VbMgYY1P95if"
   },
   "outputs": [],
   "source": [
    "# openpose\n",
    "from network.rtpose_vgg import get_model\n",
    "from evaluate.coco_eval import get_multiplier, get_outputs\n",
    "\n",
    "# utils\n",
    "from openpose_utils import remove_noise, get_pose"
   ]
  },
  {
   "cell_type": "code",
   "execution_count": null,
   "metadata": {
    "ExecuteTime": {
     "end_time": "2018-09-10T07:17:58.478351Z",
     "start_time": "2018-09-10T07:17:56.328212Z"
    },
    "colab": {
     "base_uri": "https://localhost:8080/",
     "height": 3801
    },
    "colab_type": "code",
    "executionInfo": {
     "elapsed": 11978,
     "status": "ok",
     "timestamp": 1559977881884,
     "user": {
      "displayName": "Alan Luis Vergel Juárez",
      "photoUrl": "",
      "userId": "17609825801325148392"
     },
     "user_tz": 300
    },
    "id": "2WtMvF4F95ip",
    "outputId": "a5523570-bd3b-419f-a51d-e3abe09ae2a8"
   },
   "outputs": [],
   "source": [
    "weight_name = openpose_dir.joinpath('network/weight/pose_model.pth')\n",
    "\n",
    "model = get_model('vgg19')     \n",
    "model.load_state_dict(torch.load(weight_name))\n",
    "model = torch.nn.DataParallel(model).cuda()\n",
    "model.float()\n",
    "model.eval()\n"
   ]
  },
  {
   "cell_type": "markdown",
   "metadata": {
    "colab_type": "text",
    "id": "JGrHBf2W95i2"
   },
   "source": [
    "## check"
   ]
  },
  {
   "cell_type": "code",
   "execution_count": null,
   "metadata": {
    "ExecuteTime": {
     "end_time": "2018-09-10T07:18:00.352813Z",
     "start_time": "2018-09-10T07:18:00.162131Z"
    },
    "colab": {
     "base_uri": "https://localhost:8080/",
     "height": 324
    },
    "colab_type": "code",
    "executionInfo": {
     "elapsed": 525,
     "status": "ok",
     "timestamp": 1559977915339,
     "user": {
      "displayName": "Alan Luis Vergel Juárez",
      "photoUrl": "",
      "userId": "17609825801325148392"
     },
     "user_tz": 300
    },
    "id": "4cFKPhOn95i5",
    "outputId": "ba441250-bef4-4b3b-995f-91dd1a285fb0"
   },
   "outputs": [],
   "source": [
    "print(img_dir)\n",
    "\n",
    "print(len(os.listdir(img_dir)))\n",
    "\n",
    "img_path = sorted(img_dir.iterdir())[300]\n",
    "img = cv2.imread(str(img_path))\n",
    "shape_dst = np.min(img.shape[:2])\n",
    "# offset\n",
    "oh = (img.shape[0] - shape_dst) // 2\n",
    "ow = (img.shape[1] - shape_dst) // 2\n",
    "\n",
    "img = img[oh:oh+shape_dst, ow:ow+shape_dst]\n",
    "img = cv2.resize(img, (512, 512))\n",
    "          \n",
    "plt.imshow(img[:,:,[2, 1, 0]]) # BGR -> RGB"
   ]
  },
  {
   "cell_type": "code",
   "execution_count": null,
   "metadata": {
    "ExecuteTime": {
     "end_time": "2018-09-10T07:18:08.018250Z",
     "start_time": "2018-09-10T07:18:01.110620Z"
    },
    "colab": {
     "base_uri": "https://localhost:8080/",
     "height": 287
    },
    "colab_type": "code",
    "executionInfo": {
     "elapsed": 3658,
     "status": "ok",
     "timestamp": 1559977921811,
     "user": {
      "displayName": "Alan Luis Vergel Juárez",
      "photoUrl": "",
      "userId": "17609825801325148392"
     },
     "user_tz": 300
    },
    "id": "XPl3570E95jD",
    "outputId": "8c98c1a3-a362-4206-edc7-48121d09b0a8"
   },
   "outputs": [],
   "source": [
    "multiplier = get_multiplier(img)\n",
    "with torch.no_grad():\n",
    "    paf, heatmap = get_outputs(multiplier, img, model, 'rtpose')\n",
    "    \n",
    "r_heatmap = np.array([remove_noise(ht)\n",
    "                      for ht in heatmap.transpose(2, 0, 1)[:-1]])\\\n",
    "                     .transpose(1, 2, 0)\n",
    "heatmap[:, :, :-1] = r_heatmap\n",
    "param = {'thre1': 0.1, 'thre2': 0.05, 'thre3': 0.5}\n",
    "label = get_pose(param, heatmap, paf)\n",
    "\n",
    "plt.imshow(label)"
   ]
  },
  {
   "cell_type": "markdown",
   "metadata": {
    "colab_type": "text",
    "id": "lqziN8I695jL"
   },
   "source": [
    "## make label images for pix2pix"
   ]
  },
  {
   "cell_type": "code",
   "execution_count": null,
   "metadata": {
    "ExecuteTime": {
     "end_time": "2018-09-10T07:18:39.528422Z",
     "start_time": "2018-09-10T07:18:11.930068Z"
    },
    "colab": {
     "base_uri": "https://localhost:8080/",
     "height": 35
    },
    "colab_type": "code",
    "executionInfo": {
     "elapsed": 6248329,
     "status": "ok",
     "timestamp": 1559984191699,
     "user": {
      "displayName": "Alan Luis Vergel Juárez",
      "photoUrl": "",
      "userId": "17609825801325148392"
     },
     "user_tz": 300
    },
    "id": "CDGn0V3X95jM",
    "outputId": "27fb5e15-5f5d-4808-bfd3-0f54a26c5990"
   },
   "outputs": [],
   "source": [
    "test_img_dir = save_dir.joinpath('test_img')\n",
    "test_img_dir.mkdir(exist_ok=True)\n",
    "test_label_dir = save_dir.joinpath('test_label')\n",
    "test_label_dir.mkdir(exist_ok=True)\n",
    "\n",
    "for idx in tqdm(range(1882)):\n",
    "    img_path = img_dir.joinpath(f'img_{idx:05d}.png')\n",
    "    img = cv2.imread(str(img_path))\n",
    "    shape_dst = np.min(img.shape[:2])\n",
    "    oh = (img.shape[0] - shape_dst) // 2\n",
    "    ow = (img.shape[1] - shape_dst) // 2\n",
    "\n",
    "    img = img[oh:oh+shape_dst, ow:ow+shape_dst]\n",
    "    img = cv2.resize(img, (512, 512))\n",
    "    multiplier = get_multiplier(img)\n",
    "    with torch.no_grad(): \n",
    "        paf, heatmap = get_outputs(multiplier, img, model, 'rtpose')\n",
    "    r_heatmap = np.array([remove_noise(ht)\n",
    "                      for ht in heatmap.transpose(2, 0, 1)[:-1]])\\\n",
    "                     .transpose(1, 2, 0)\n",
    "    heatmap[:, :, :-1] = r_heatmap\n",
    "    param = {'thre1': 0.1, 'thre2': 0.05, 'thre3': 0.5}\n",
    "    label = get_pose(param, heatmap, paf)\n",
    "    cv2.imwrite(str(test_img_dir.joinpath(f'img_{idx:05d}.png')), img)\n",
    "    cv2.imwrite(str(test_label_dir.joinpath(f'label_{idx:05d}.png')), label)\n",
    "    \n",
    "torch.cuda.empty_cache()"
   ]
  },
  {
   "cell_type": "code",
   "execution_count": null,
   "metadata": {
    "colab": {
     "base_uri": "https://localhost:8080/",
     "height": 35
    },
    "colab_type": "code",
    "executionInfo": {
     "elapsed": 279,
     "status": "ok",
     "timestamp": 1559977930126,
     "user": {
      "displayName": "Alan Luis Vergel Juárez",
      "photoUrl": "",
      "userId": "17609825801325148392"
     },
     "user_tz": 300
    },
    "id": "_G1ZoynL95jW",
    "outputId": "77e50ffe-1ac4-474f-eb27-c9c62b68fd1e"
   },
   "outputs": [],
   "source": [
    "len(os.listdir(str(img_dir)))"
   ]
  },
  {
   "cell_type": "code",
   "execution_count": null,
   "metadata": {
    "colab": {},
    "colab_type": "code",
    "id": "elT-wai3J0fb"
   },
   "outputs": [],
   "source": []
  }
 ],
 "metadata": {
  "accelerator": "GPU",
  "colab": {
   "collapsed_sections": [],
   "name": "1.make_source_images.ipynb",
   "provenance": [],
   "version": "0.3.2"
  },
  "kernelspec": {
   "display_name": "privateai",
   "language": "python",
   "name": "privateai"
  },
  "language_info": {
   "codemirror_mode": {
    "name": "ipython",
    "version": 3
   },
   "file_extension": ".py",
   "mimetype": "text/x-python",
   "name": "python",
   "nbconvert_exporter": "python",
   "pygments_lexer": "ipython3",
   "version": "3.6.8"
  }
 },
 "nbformat": 4,
 "nbformat_minor": 1
}
