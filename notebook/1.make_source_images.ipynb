{
 "cells": [
  {
   "cell_type": "code",
   "execution_count": null,
   "metadata": {
    "colab": {
     "base_uri": "https://localhost:8080/",
     "height": 35
    },
    "colab_type": "code",
    "executionInfo": {
     "elapsed": 495,
     "status": "ok",
     "timestamp": 1559977269702,
     "user": {
      "displayName": "Alan Luis Vergel Juárez",
      "photoUrl": "",
      "userId": "17609825801325148392"
     },
     "user_tz": 300
    },
    "id": "1ghOuV1nJ8Uy",
    "outputId": "856d49bb-cdea-4049-85e2-31540f9c9bf4"
   },
   "outputs": [],
   "source": [
    "import os\n",
    "os.getcwd()"
   ]
  },
  {
   "cell_type": "markdown",
   "metadata": {
    "colab_type": "text",
    "id": "S-uYW5ENLe0V"
   },
   "source": [
    "# Mount File System for Working on Colaboratory"
   ]
  },
  {
   "cell_type": "markdown",
   "metadata": {
    "colab_type": "text",
    "id": "pF272MmRLbvf"
   },
   "source": [
    "# Running or importing .py Files"
   ]
  },
  {
   "cell_type": "code",
   "execution_count": null,
   "metadata": {
    "colab": {
     "base_uri": "https://localhost:8080/",
     "height": 129
    },
    "colab_type": "code",
    "executionInfo": {
     "elapsed": 38352,
     "status": "ok",
     "timestamp": 1559977307596,
     "user": {
      "displayName": "Alan Luis Vergel Juárez",
      "photoUrl": "",
      "userId": "17609825801325148392"
     },
     "user_tz": 300
    },
    "id": "C6pH56x2J8ud",
    "outputId": "21aedae5-0c63-4637-8331-a4a383d62b8f"
   },
   "outputs": [],
   "source": [
    "from google.colab import drive\n",
    "drive.mount('/content/drive')"
   ]
  },
  {
   "cell_type": "markdown",
   "metadata": {
    "colab_type": "text",
    "id": "yF6_T35WDdRN"
   },
   "source": [
    "# Change working directory"
   ]
  },
  {
   "cell_type": "code",
   "execution_count": null,
   "metadata": {
    "colab": {
     "base_uri": "https://localhost:8080/",
     "height": 35
    },
    "colab_type": "code",
    "executionInfo": {
     "elapsed": 39186,
     "status": "ok",
     "timestamp": 1559977308454,
     "user": {
      "displayName": "Alan Luis Vergel Juárez",
      "photoUrl": "",
      "userId": "17609825801325148392"
     },
     "user_tz": 300
    },
    "id": "4zAzX0u-KBAg",
    "outputId": "bd65b04e-740a-4282-dfcb-6fa81be062fe"
   },
   "outputs": [],
   "source": [
    "!ls"
   ]
  },
  {
   "cell_type": "code",
   "execution_count": null,
   "metadata": {
    "colab": {
     "base_uri": "https://localhost:8080/",
     "height": 256
    },
    "colab_type": "code",
    "executionInfo": {
     "elapsed": 40012,
     "status": "ok",
     "timestamp": 1559977309301,
     "user": {
      "displayName": "Alan Luis Vergel Juárez",
      "photoUrl": "",
      "userId": "17609825801325148392"
     },
     "user_tz": 300
    },
    "id": "tyrxIXPtDvhp",
    "outputId": "39862e61-f18e-4354-8d48-3538b6a765c4"
   },
   "outputs": [],
   "source": [
    "!ls 'drive/My Drive/pytorch-EverybodyDanceNow/notebook'"
   ]
  },
  {
   "cell_type": "code",
   "execution_count": 1,
   "metadata": {
    "colab": {},
    "colab_type": "code",
    "id": "GSsevlhMDcJ0"
   },
   "outputs": [
    {
     "ename": "FileNotFoundError",
     "evalue": "[WinError 3] El sistema no puede encontrar la ruta especificada: 'drive/My Drive/pytorch-EverybodyDanceNow/notebook'",
     "output_type": "error",
     "traceback": [
      "\u001b[1;31m---------------------------------------------------------------------------\u001b[0m",
      "\u001b[1;31mFileNotFoundError\u001b[0m                         Traceback (most recent call last)",
      "\u001b[1;32m<ipython-input-1-2fede06e558f>\u001b[0m in \u001b[0;36m<module>\u001b[1;34m\u001b[0m\n\u001b[0;32m      1\u001b[0m \u001b[1;32mimport\u001b[0m \u001b[0mos\u001b[0m\u001b[1;33m\u001b[0m\u001b[1;33m\u001b[0m\u001b[0m\n\u001b[1;32m----> 2\u001b[1;33m \u001b[0mos\u001b[0m\u001b[1;33m.\u001b[0m\u001b[0mchdir\u001b[0m\u001b[1;33m(\u001b[0m\u001b[1;34m'drive/My Drive/pytorch-EverybodyDanceNow/notebook'\u001b[0m\u001b[1;33m)\u001b[0m\u001b[1;33m\u001b[0m\u001b[1;33m\u001b[0m\u001b[0m\n\u001b[0m",
      "\u001b[1;31mFileNotFoundError\u001b[0m: [WinError 3] El sistema no puede encontrar la ruta especificada: 'drive/My Drive/pytorch-EverybodyDanceNow/notebook'"
     ]
    }
   ],
   "source": [
    "import os\n",
    "os.chdir('drive/My Drive/pytorch-EverybodyDanceNow/notebook')"
   ]
  },
  {
   "cell_type": "code",
   "execution_count": 1,
   "metadata": {
    "colab": {},
    "colab_type": "code",
    "id": "uC5YXwhGJ8zw"
   },
   "outputs": [],
   "source": [
    "import os\n",
    "import numpy as np\n",
    "import torch\n",
    "os.environ['CUDA_VISIBLE_DEVICES'] = '0'\n",
    "torch.multiprocessing.set_sharing_strategy('file_system')\n",
    "torch.backends.cudnn.benchmark = True\n",
    "torch.cuda.set_device(0)\n",
    "\n",
    "\n",
    "\n",
    "import time\n",
    "import pickle\n",
    "import matplotlib.pyplot as plt\n",
    "from collections import OrderedDict\n",
    "from torch.autograd import Variable\n",
    "from pathlib import Path\n",
    "\n",
    "%matplotlib inline"
   ]
  },
  {
   "cell_type": "code",
   "execution_count": 2,
   "metadata": {
    "colab": {
     "base_uri": "https://localhost:8080/",
     "height": 35
    },
    "colab_type": "code",
    "executionInfo": {
     "elapsed": 583,
     "status": "ok",
     "timestamp": 1559977328707,
     "user": {
      "displayName": "Alan Luis Vergel Juárez",
      "photoUrl": "",
      "userId": "17609825801325148392"
     },
     "user_tz": 300
    },
    "id": "QHonnhjbJ83k",
    "outputId": "5aca6dcf-e6d2-4138-bef7-7e68d0e59226"
   },
   "outputs": [
    {
     "name": "stdout",
     "output_type": "stream",
     "text": [
      "..\\src\\pix2pixHD\n"
     ]
    }
   ],
   "source": [
    "pix2pixhd_dir = Path('../src/pix2pixHD/')\n",
    "\n",
    "import sys\n",
    "sys.path.append(str(pix2pixhd_dir))\n",
    "\n",
    "print(str(pix2pixhd_dir))"
   ]
  },
  {
   "cell_type": "code",
   "execution_count": 3,
   "metadata": {
    "colab": {},
    "colab_type": "code",
    "id": "tWwknmiyJ8_k"
   },
   "outputs": [],
   "source": [
    "%load_ext autoreload"
   ]
  },
  {
   "cell_type": "code",
   "execution_count": 4,
   "metadata": {
    "colab": {},
    "colab_type": "code",
    "id": "gT_dK2Z2J9DA"
   },
   "outputs": [],
   "source": [
    "%autoreload 2"
   ]
  },
  {
   "cell_type": "markdown",
   "metadata": {
    "colab_type": "text",
    "id": "xpDpRZ3_95hm"
   },
   "source": [
    "# Download and extract video"
   ]
  },
  {
   "cell_type": "code",
   "execution_count": 5,
   "metadata": {
    "ExecuteTime": {
     "end_time": "2018-09-10T07:17:36.965608Z",
     "start_time": "2018-09-10T07:17:36.806321Z"
    },
    "colab": {},
    "colab_type": "code",
    "id": "yUU8C0qz95hr"
   },
   "outputs": [],
   "source": [
    "import cv2\n",
    "from pathlib import Path"
   ]
  },
  {
   "cell_type": "code",
   "execution_count": 6,
   "metadata": {
    "ExecuteTime": {
     "end_time": "2018-09-10T07:17:37.378352Z",
     "start_time": "2018-09-10T07:17:37.370617Z"
    },
    "colab": {
     "base_uri": "https://localhost:8080/",
     "height": 54
    },
    "colab_type": "code",
    "executionInfo": {
     "elapsed": 444,
     "status": "ok",
     "timestamp": 1559977389983,
     "user": {
      "displayName": "Alan Luis Vergel Juárez",
      "photoUrl": "",
      "userId": "17609825801325148392"
     },
     "user_tz": 300
    },
    "id": "2uDRO1tb95h3",
    "outputId": "50b81c64-2945-40e4-d279-61ec9883fc74"
   },
   "outputs": [
    {
     "name": "stdout",
     "output_type": "stream",
     "text": [
      "Source data dir:  ..\\data\\source\n",
      "Directory exists\n",
      "..\\data\\source\\images\n",
      "Directory exists\n"
     ]
    }
   ],
   "source": [
    "save_dir = Path('../data/source/')\n",
    "print(\"Source data dir: \",save_dir)\n",
    "\n",
    "try:\n",
    "    save_dir.mkdir(True)\n",
    "\n",
    "except FileExistsError:\n",
    "    print(\"Directory exists\")\n",
    "    \n",
    "\n",
    "img_dir = save_dir.joinpath('images')\n",
    "\n",
    "print(img_dir)\n",
    "\n",
    "try:\n",
    "    img_dir.mkdir(True)\n",
    "except FileExistsError:\n",
    "    print(\"Directory exists\")\n",
    "\n",
    "\n",
    "\n"
   ]
  },
  {
   "cell_type": "markdown",
   "metadata": {
    "ExecuteTime": {
     "end_time": "2018-09-10T07:17:40.030886Z",
     "start_time": "2018-09-10T07:17:37.729714Z"
    },
    "colab_type": "text",
    "id": "nWstnWlz95h-"
   },
   "source": [
    "# Get Frames from Video"
   ]
  },
  {
   "cell_type": "code",
   "execution_count": 7,
   "metadata": {
    "ExecuteTime": {
     "end_time": "2018-09-10T07:17:53.162745Z",
     "start_time": "2018-09-10T07:17:40.032189Z"
    },
    "colab": {
     "base_uri": "https://localhost:8080/",
     "height": 72
    },
    "colab_type": "code",
    "executionInfo": {
     "elapsed": 134118,
     "status": "ok",
     "timestamp": 1559977577787,
     "user": {
      "displayName": "Alan Luis Vergel Juárez",
      "photoUrl": "",
      "userId": "17609825801325148392"
     },
     "user_tz": 300
    },
    "id": "ynlqklIW95iB",
    "outputId": "df94a4c6-3413-45df-9aa4-8b5b3084d761"
   },
   "outputs": [
    {
     "name": "stdout",
     "output_type": "stream",
     "text": [
      "..\\data\\source\\file_name.mp4\n",
      "True\n",
      "Number of frames: 300\n"
     ]
    }
   ],
   "source": [
    "print(str(save_dir.joinpath('file_name.mp4')))\n",
    "cap = cv2.VideoCapture( str(save_dir.joinpath('file_name.mp4')))\n",
    "print(cap.isOpened())\n",
    "\n",
    "i = 0\n",
    "while(cap.isOpened()):\n",
    "    flag, frame = cap.read()\n",
    "    \n",
    "    if flag == False:\n",
    "        break \n",
    "    \n",
    "    #frame = cv2.resize(frame, dsize=(512, 512), interpolation=cv2.INTER_CUBIC)\n",
    "    cv2.imwrite(str(img_dir.joinpath('{:05d}.png'.format(i))), frame)\n",
    "    \n",
    "    #if i >= 300:\n",
    "    #    break\n",
    "    i += 1\n",
    "print(\"Number of frames:\", i)"
   ]
  },
  {
   "cell_type": "markdown",
   "metadata": {
    "colab_type": "text",
    "id": "8IGkvNJk95iJ"
   },
   "source": [
    "# Pose estimation (OpenPose)"
   ]
  },
  {
   "cell_type": "code",
   "execution_count": 7,
   "metadata": {
    "ExecuteTime": {
     "end_time": "2018-09-10T07:17:54.776521Z",
     "start_time": "2018-09-10T07:17:54.553254Z"
    },
    "colab": {},
    "colab_type": "code",
    "id": "8rky8wrY95iL"
   },
   "outputs": [],
   "source": [
    "import numpy as np\n",
    "import matplotlib.pyplot as plt\n",
    "import torch\n",
    "from tqdm import tqdm\n",
    "\n",
    "%matplotlib inline"
   ]
  },
  {
   "cell_type": "code",
   "execution_count": 8,
   "metadata": {
    "ExecuteTime": {
     "end_time": "2018-09-10T07:17:55.192338Z",
     "start_time": "2018-09-10T07:17:55.173456Z"
    },
    "colab": {},
    "colab_type": "code",
    "id": "F9q3gvet95iS"
   },
   "outputs": [],
   "source": [
    "openpose_dir = Path('../src/pytorch_Realtime_Multi-Person_Pose_Estimation/')\n",
    "\n",
    "import sys\n",
    "sys.path.append(str(openpose_dir))\n",
    "sys.path.append('../src/utils')\n",
    "\n"
   ]
  },
  {
   "cell_type": "markdown",
   "metadata": {},
   "source": [
    "# Install packages with pip "
   ]
  },
  {
   "cell_type": "code",
   "execution_count": 9,
   "metadata": {},
   "outputs": [],
   "source": [
    "import sys\n",
    "#!{sys.executable} -m pip install scikit-image"
   ]
  },
  {
   "cell_type": "code",
   "execution_count": 10,
   "metadata": {
    "ExecuteTime": {
     "end_time": "2018-09-10T07:17:56.164221Z",
     "start_time": "2018-09-10T07:17:55.748391Z"
    },
    "colab": {},
    "colab_type": "code",
    "id": "VbMgYY1P95if"
   },
   "outputs": [],
   "source": [
    "# openpose\n",
    "from network.rtpose_vgg import get_model\n",
    "from evaluate.coco_eval import get_multiplier, get_outputs\n",
    "\n",
    "# utils\n",
    "from openpose_utils import remove_noise, get_pose"
   ]
  },
  {
   "cell_type": "code",
   "execution_count": 11,
   "metadata": {
    "ExecuteTime": {
     "end_time": "2018-09-10T07:17:58.478351Z",
     "start_time": "2018-09-10T07:17:56.328212Z"
    },
    "colab": {
     "base_uri": "https://localhost:8080/",
     "height": 3801
    },
    "colab_type": "code",
    "executionInfo": {
     "elapsed": 11978,
     "status": "ok",
     "timestamp": 1559977881884,
     "user": {
      "displayName": "Alan Luis Vergel Juárez",
      "photoUrl": "",
      "userId": "17609825801325148392"
     },
     "user_tz": 300
    },
    "id": "2WtMvF4F95ip",
    "outputId": "a5523570-bd3b-419f-a51d-e3abe09ae2a8"
   },
   "outputs": [
    {
     "name": "stdout",
     "output_type": "stream",
     "text": [
      "Bulding VGG19\n"
     ]
    },
    {
     "data": {
      "text/plain": [
       "DataParallel(\n",
       "  (module): rtpose_model(\n",
       "    (model0): Sequential(\n",
       "      (0): Conv2d(3, 64, kernel_size=(3, 3), stride=(1, 1), padding=(1, 1))\n",
       "      (1): ReLU(inplace)\n",
       "      (2): Conv2d(64, 64, kernel_size=(3, 3), stride=(1, 1), padding=(1, 1))\n",
       "      (3): ReLU(inplace)\n",
       "      (4): MaxPool2d(kernel_size=2, stride=2, padding=0, dilation=1, ceil_mode=False)\n",
       "      (5): Conv2d(64, 128, kernel_size=(3, 3), stride=(1, 1), padding=(1, 1))\n",
       "      (6): ReLU(inplace)\n",
       "      (7): Conv2d(128, 128, kernel_size=(3, 3), stride=(1, 1), padding=(1, 1))\n",
       "      (8): ReLU(inplace)\n",
       "      (9): MaxPool2d(kernel_size=2, stride=2, padding=0, dilation=1, ceil_mode=False)\n",
       "      (10): Conv2d(128, 256, kernel_size=(3, 3), stride=(1, 1), padding=(1, 1))\n",
       "      (11): ReLU(inplace)\n",
       "      (12): Conv2d(256, 256, kernel_size=(3, 3), stride=(1, 1), padding=(1, 1))\n",
       "      (13): ReLU(inplace)\n",
       "      (14): Conv2d(256, 256, kernel_size=(3, 3), stride=(1, 1), padding=(1, 1))\n",
       "      (15): ReLU(inplace)\n",
       "      (16): Conv2d(256, 256, kernel_size=(3, 3), stride=(1, 1), padding=(1, 1))\n",
       "      (17): ReLU(inplace)\n",
       "      (18): MaxPool2d(kernel_size=2, stride=2, padding=0, dilation=1, ceil_mode=False)\n",
       "      (19): Conv2d(256, 512, kernel_size=(3, 3), stride=(1, 1), padding=(1, 1))\n",
       "      (20): ReLU(inplace)\n",
       "      (21): Conv2d(512, 512, kernel_size=(3, 3), stride=(1, 1), padding=(1, 1))\n",
       "      (22): ReLU(inplace)\n",
       "      (23): Conv2d(512, 256, kernel_size=(3, 3), stride=(1, 1), padding=(1, 1))\n",
       "      (24): ReLU(inplace)\n",
       "      (25): Conv2d(256, 128, kernel_size=(3, 3), stride=(1, 1), padding=(1, 1))\n",
       "      (26): ReLU(inplace)\n",
       "    )\n",
       "    (model1_1): Sequential(\n",
       "      (0): Conv2d(128, 128, kernel_size=(3, 3), stride=(1, 1), padding=(1, 1))\n",
       "      (1): ReLU(inplace)\n",
       "      (2): Conv2d(128, 128, kernel_size=(3, 3), stride=(1, 1), padding=(1, 1))\n",
       "      (3): ReLU(inplace)\n",
       "      (4): Conv2d(128, 128, kernel_size=(3, 3), stride=(1, 1), padding=(1, 1))\n",
       "      (5): ReLU(inplace)\n",
       "      (6): Conv2d(128, 512, kernel_size=(1, 1), stride=(1, 1))\n",
       "      (7): ReLU(inplace)\n",
       "      (8): Conv2d(512, 38, kernel_size=(1, 1), stride=(1, 1))\n",
       "    )\n",
       "    (model2_1): Sequential(\n",
       "      (0): Conv2d(185, 128, kernel_size=(7, 7), stride=(1, 1), padding=(3, 3))\n",
       "      (1): ReLU(inplace)\n",
       "      (2): Conv2d(128, 128, kernel_size=(7, 7), stride=(1, 1), padding=(3, 3))\n",
       "      (3): ReLU(inplace)\n",
       "      (4): Conv2d(128, 128, kernel_size=(7, 7), stride=(1, 1), padding=(3, 3))\n",
       "      (5): ReLU(inplace)\n",
       "      (6): Conv2d(128, 128, kernel_size=(7, 7), stride=(1, 1), padding=(3, 3))\n",
       "      (7): ReLU(inplace)\n",
       "      (8): Conv2d(128, 128, kernel_size=(7, 7), stride=(1, 1), padding=(3, 3))\n",
       "      (9): ReLU(inplace)\n",
       "      (10): Conv2d(128, 128, kernel_size=(1, 1), stride=(1, 1))\n",
       "      (11): ReLU(inplace)\n",
       "      (12): Conv2d(128, 38, kernel_size=(1, 1), stride=(1, 1))\n",
       "    )\n",
       "    (model3_1): Sequential(\n",
       "      (0): Conv2d(185, 128, kernel_size=(7, 7), stride=(1, 1), padding=(3, 3))\n",
       "      (1): ReLU(inplace)\n",
       "      (2): Conv2d(128, 128, kernel_size=(7, 7), stride=(1, 1), padding=(3, 3))\n",
       "      (3): ReLU(inplace)\n",
       "      (4): Conv2d(128, 128, kernel_size=(7, 7), stride=(1, 1), padding=(3, 3))\n",
       "      (5): ReLU(inplace)\n",
       "      (6): Conv2d(128, 128, kernel_size=(7, 7), stride=(1, 1), padding=(3, 3))\n",
       "      (7): ReLU(inplace)\n",
       "      (8): Conv2d(128, 128, kernel_size=(7, 7), stride=(1, 1), padding=(3, 3))\n",
       "      (9): ReLU(inplace)\n",
       "      (10): Conv2d(128, 128, kernel_size=(1, 1), stride=(1, 1))\n",
       "      (11): ReLU(inplace)\n",
       "      (12): Conv2d(128, 38, kernel_size=(1, 1), stride=(1, 1))\n",
       "    )\n",
       "    (model4_1): Sequential(\n",
       "      (0): Conv2d(185, 128, kernel_size=(7, 7), stride=(1, 1), padding=(3, 3))\n",
       "      (1): ReLU(inplace)\n",
       "      (2): Conv2d(128, 128, kernel_size=(7, 7), stride=(1, 1), padding=(3, 3))\n",
       "      (3): ReLU(inplace)\n",
       "      (4): Conv2d(128, 128, kernel_size=(7, 7), stride=(1, 1), padding=(3, 3))\n",
       "      (5): ReLU(inplace)\n",
       "      (6): Conv2d(128, 128, kernel_size=(7, 7), stride=(1, 1), padding=(3, 3))\n",
       "      (7): ReLU(inplace)\n",
       "      (8): Conv2d(128, 128, kernel_size=(7, 7), stride=(1, 1), padding=(3, 3))\n",
       "      (9): ReLU(inplace)\n",
       "      (10): Conv2d(128, 128, kernel_size=(1, 1), stride=(1, 1))\n",
       "      (11): ReLU(inplace)\n",
       "      (12): Conv2d(128, 38, kernel_size=(1, 1), stride=(1, 1))\n",
       "    )\n",
       "    (model5_1): Sequential(\n",
       "      (0): Conv2d(185, 128, kernel_size=(7, 7), stride=(1, 1), padding=(3, 3))\n",
       "      (1): ReLU(inplace)\n",
       "      (2): Conv2d(128, 128, kernel_size=(7, 7), stride=(1, 1), padding=(3, 3))\n",
       "      (3): ReLU(inplace)\n",
       "      (4): Conv2d(128, 128, kernel_size=(7, 7), stride=(1, 1), padding=(3, 3))\n",
       "      (5): ReLU(inplace)\n",
       "      (6): Conv2d(128, 128, kernel_size=(7, 7), stride=(1, 1), padding=(3, 3))\n",
       "      (7): ReLU(inplace)\n",
       "      (8): Conv2d(128, 128, kernel_size=(7, 7), stride=(1, 1), padding=(3, 3))\n",
       "      (9): ReLU(inplace)\n",
       "      (10): Conv2d(128, 128, kernel_size=(1, 1), stride=(1, 1))\n",
       "      (11): ReLU(inplace)\n",
       "      (12): Conv2d(128, 38, kernel_size=(1, 1), stride=(1, 1))\n",
       "    )\n",
       "    (model6_1): Sequential(\n",
       "      (0): Conv2d(185, 128, kernel_size=(7, 7), stride=(1, 1), padding=(3, 3))\n",
       "      (1): ReLU(inplace)\n",
       "      (2): Conv2d(128, 128, kernel_size=(7, 7), stride=(1, 1), padding=(3, 3))\n",
       "      (3): ReLU(inplace)\n",
       "      (4): Conv2d(128, 128, kernel_size=(7, 7), stride=(1, 1), padding=(3, 3))\n",
       "      (5): ReLU(inplace)\n",
       "      (6): Conv2d(128, 128, kernel_size=(7, 7), stride=(1, 1), padding=(3, 3))\n",
       "      (7): ReLU(inplace)\n",
       "      (8): Conv2d(128, 128, kernel_size=(7, 7), stride=(1, 1), padding=(3, 3))\n",
       "      (9): ReLU(inplace)\n",
       "      (10): Conv2d(128, 128, kernel_size=(1, 1), stride=(1, 1))\n",
       "      (11): ReLU(inplace)\n",
       "      (12): Conv2d(128, 38, kernel_size=(1, 1), stride=(1, 1))\n",
       "    )\n",
       "    (model1_2): Sequential(\n",
       "      (0): Conv2d(128, 128, kernel_size=(3, 3), stride=(1, 1), padding=(1, 1))\n",
       "      (1): ReLU(inplace)\n",
       "      (2): Conv2d(128, 128, kernel_size=(3, 3), stride=(1, 1), padding=(1, 1))\n",
       "      (3): ReLU(inplace)\n",
       "      (4): Conv2d(128, 128, kernel_size=(3, 3), stride=(1, 1), padding=(1, 1))\n",
       "      (5): ReLU(inplace)\n",
       "      (6): Conv2d(128, 512, kernel_size=(1, 1), stride=(1, 1))\n",
       "      (7): ReLU(inplace)\n",
       "      (8): Conv2d(512, 19, kernel_size=(1, 1), stride=(1, 1))\n",
       "    )\n",
       "    (model2_2): Sequential(\n",
       "      (0): Conv2d(185, 128, kernel_size=(7, 7), stride=(1, 1), padding=(3, 3))\n",
       "      (1): ReLU(inplace)\n",
       "      (2): Conv2d(128, 128, kernel_size=(7, 7), stride=(1, 1), padding=(3, 3))\n",
       "      (3): ReLU(inplace)\n",
       "      (4): Conv2d(128, 128, kernel_size=(7, 7), stride=(1, 1), padding=(3, 3))\n",
       "      (5): ReLU(inplace)\n",
       "      (6): Conv2d(128, 128, kernel_size=(7, 7), stride=(1, 1), padding=(3, 3))\n",
       "      (7): ReLU(inplace)\n",
       "      (8): Conv2d(128, 128, kernel_size=(7, 7), stride=(1, 1), padding=(3, 3))\n",
       "      (9): ReLU(inplace)\n",
       "      (10): Conv2d(128, 128, kernel_size=(1, 1), stride=(1, 1))\n",
       "      (11): ReLU(inplace)\n",
       "      (12): Conv2d(128, 19, kernel_size=(1, 1), stride=(1, 1))\n",
       "    )\n",
       "    (model3_2): Sequential(\n",
       "      (0): Conv2d(185, 128, kernel_size=(7, 7), stride=(1, 1), padding=(3, 3))\n",
       "      (1): ReLU(inplace)\n",
       "      (2): Conv2d(128, 128, kernel_size=(7, 7), stride=(1, 1), padding=(3, 3))\n",
       "      (3): ReLU(inplace)\n",
       "      (4): Conv2d(128, 128, kernel_size=(7, 7), stride=(1, 1), padding=(3, 3))\n",
       "      (5): ReLU(inplace)\n",
       "      (6): Conv2d(128, 128, kernel_size=(7, 7), stride=(1, 1), padding=(3, 3))\n",
       "      (7): ReLU(inplace)\n",
       "      (8): Conv2d(128, 128, kernel_size=(7, 7), stride=(1, 1), padding=(3, 3))\n",
       "      (9): ReLU(inplace)\n",
       "      (10): Conv2d(128, 128, kernel_size=(1, 1), stride=(1, 1))\n",
       "      (11): ReLU(inplace)\n",
       "      (12): Conv2d(128, 19, kernel_size=(1, 1), stride=(1, 1))\n",
       "    )\n",
       "    (model4_2): Sequential(\n",
       "      (0): Conv2d(185, 128, kernel_size=(7, 7), stride=(1, 1), padding=(3, 3))\n",
       "      (1): ReLU(inplace)\n",
       "      (2): Conv2d(128, 128, kernel_size=(7, 7), stride=(1, 1), padding=(3, 3))\n",
       "      (3): ReLU(inplace)\n",
       "      (4): Conv2d(128, 128, kernel_size=(7, 7), stride=(1, 1), padding=(3, 3))\n",
       "      (5): ReLU(inplace)\n",
       "      (6): Conv2d(128, 128, kernel_size=(7, 7), stride=(1, 1), padding=(3, 3))\n",
       "      (7): ReLU(inplace)\n",
       "      (8): Conv2d(128, 128, kernel_size=(7, 7), stride=(1, 1), padding=(3, 3))\n",
       "      (9): ReLU(inplace)\n",
       "      (10): Conv2d(128, 128, kernel_size=(1, 1), stride=(1, 1))\n",
       "      (11): ReLU(inplace)\n",
       "      (12): Conv2d(128, 19, kernel_size=(1, 1), stride=(1, 1))\n",
       "    )\n",
       "    (model5_2): Sequential(\n",
       "      (0): Conv2d(185, 128, kernel_size=(7, 7), stride=(1, 1), padding=(3, 3))\n",
       "      (1): ReLU(inplace)\n",
       "      (2): Conv2d(128, 128, kernel_size=(7, 7), stride=(1, 1), padding=(3, 3))\n",
       "      (3): ReLU(inplace)\n",
       "      (4): Conv2d(128, 128, kernel_size=(7, 7), stride=(1, 1), padding=(3, 3))\n",
       "      (5): ReLU(inplace)\n",
       "      (6): Conv2d(128, 128, kernel_size=(7, 7), stride=(1, 1), padding=(3, 3))\n",
       "      (7): ReLU(inplace)\n",
       "      (8): Conv2d(128, 128, kernel_size=(7, 7), stride=(1, 1), padding=(3, 3))\n",
       "      (9): ReLU(inplace)\n",
       "      (10): Conv2d(128, 128, kernel_size=(1, 1), stride=(1, 1))\n",
       "      (11): ReLU(inplace)\n",
       "      (12): Conv2d(128, 19, kernel_size=(1, 1), stride=(1, 1))\n",
       "    )\n",
       "    (model6_2): Sequential(\n",
       "      (0): Conv2d(185, 128, kernel_size=(7, 7), stride=(1, 1), padding=(3, 3))\n",
       "      (1): ReLU(inplace)\n",
       "      (2): Conv2d(128, 128, kernel_size=(7, 7), stride=(1, 1), padding=(3, 3))\n",
       "      (3): ReLU(inplace)\n",
       "      (4): Conv2d(128, 128, kernel_size=(7, 7), stride=(1, 1), padding=(3, 3))\n",
       "      (5): ReLU(inplace)\n",
       "      (6): Conv2d(128, 128, kernel_size=(7, 7), stride=(1, 1), padding=(3, 3))\n",
       "      (7): ReLU(inplace)\n",
       "      (8): Conv2d(128, 128, kernel_size=(7, 7), stride=(1, 1), padding=(3, 3))\n",
       "      (9): ReLU(inplace)\n",
       "      (10): Conv2d(128, 128, kernel_size=(1, 1), stride=(1, 1))\n",
       "      (11): ReLU(inplace)\n",
       "      (12): Conv2d(128, 19, kernel_size=(1, 1), stride=(1, 1))\n",
       "    )\n",
       "  )\n",
       ")"
      ]
     },
     "execution_count": 11,
     "metadata": {},
     "output_type": "execute_result"
    }
   ],
   "source": [
    "weight_name = openpose_dir.joinpath('network/weight/pose_model.pth')\n",
    "\n",
    "model = get_model('vgg19')     \n",
    "model.load_state_dict(torch.load(weight_name))\n",
    "model = torch.nn.DataParallel(model).cuda()\n",
    "model.float()\n",
    "model.eval()\n"
   ]
  },
  {
   "cell_type": "markdown",
   "metadata": {
    "colab_type": "text",
    "id": "JGrHBf2W95i2"
   },
   "source": [
    "## check"
   ]
  },
  {
   "cell_type": "code",
   "execution_count": 12,
   "metadata": {
    "ExecuteTime": {
     "end_time": "2018-09-10T07:18:00.352813Z",
     "start_time": "2018-09-10T07:18:00.162131Z"
    },
    "colab": {
     "base_uri": "https://localhost:8080/",
     "height": 324
    },
    "colab_type": "code",
    "executionInfo": {
     "elapsed": 525,
     "status": "ok",
     "timestamp": 1559977915339,
     "user": {
      "displayName": "Alan Luis Vergel Juárez",
      "photoUrl": "",
      "userId": "17609825801325148392"
     },
     "user_tz": 300
    },
    "id": "4cFKPhOn95i5",
    "outputId": "ba441250-bef4-4b3b-995f-91dd1a285fb0"
   },
   "outputs": [
    {
     "name": "stdout",
     "output_type": "stream",
     "text": [
      "..\\data\\source\\images\n",
      "301\n"
     ]
    },
    {
     "data": {
      "text/plain": [
       "<matplotlib.image.AxesImage at 0x1a489c3aa90>"
      ]
     },
     "execution_count": 12,
     "metadata": {},
     "output_type": "execute_result"
    },
    {
     "data": {
      "image/png": "[encoded data removed]",
      "text/plain": [
       "<Figure size 432x288 with 1 Axes>"
      ]
     },
     "metadata": {
      "needs_background": "light"
     },
     "output_type": "display_data"
    }
   ],
   "source": [
    "\n",
    "%matplotlib inline  \n",
    "\n",
    "print(img_dir)\n",
    "\n",
    "print(len(os.listdir(img_dir)))\n",
    "\n",
    "img_path = sorted(img_dir.iterdir())[5]\n",
    "img = cv2.imread(str(img_path))\n",
    "shape_dst = np.min(img.shape[:2])\n",
    "# offset\n",
    "oh = (img.shape[0] - shape_dst) // 2\n",
    "ow = (img.shape[1] - shape_dst) // 2\n",
    "\n",
    "img = img[oh:oh+shape_dst, ow:ow+shape_dst]\n",
    "img = cv2.resize(img, (512, 512))\n",
    "          \n",
    "plt.imshow(img[:,:,[2, 1, 0]]) # BGR -> RGB"
   ]
  },
  {
   "cell_type": "code",
   "execution_count": null,
   "metadata": {
    "ExecuteTime": {
     "end_time": "2018-09-10T07:18:08.018250Z",
     "start_time": "2018-09-10T07:18:01.110620Z"
    },
    "colab": {
     "base_uri": "https://localhost:8080/",
     "height": 287
    },
    "colab_type": "code",
    "executionInfo": {
     "elapsed": 3658,
     "status": "ok",
     "timestamp": 1559977921811,
     "user": {
      "displayName": "Alan Luis Vergel Juárez",
      "photoUrl": "",
      "userId": "17609825801325148392"
     },
     "user_tz": 300
    },
    "id": "XPl3570E95jD",
    "outputId": "8c98c1a3-a362-4206-edc7-48121d09b0a8"
   },
   "outputs": [],
   "source": [
    "multiplier = get_multiplier(img)\n",
    "with torch.no_grad():\n",
    "    paf, heatmap = get_outputs(multiplier, img, model, 'rtpose')\n",
    "    \n",
    "r_heatmap = np.array([remove_noise(ht)\n",
    "                      for ht in heatmap.transpose(2, 0, 1)[:-1]])\\\n",
    "                     .transpose(1, 2, 0)\n",
    "heatmap[:, :, :-1] = r_heatmap\n",
    "param = {'thre1': 0.1, 'thre2': 0.05, 'thre3': 0.5}\n",
    "label,cord = get_pose(param, heatmap, paf)\n",
    "\n",
    "print(\"Cord\", cord, len(cord))\n",
    "plt.imshow(label)"
   ]
  },
  {
   "cell_type": "markdown",
   "metadata": {
    "colab_type": "text",
    "id": "lqziN8I695jL"
   },
   "source": [
    "## make label images for pix2pix"
   ]
  },
  {
   "cell_type": "code",
   "execution_count": 16,
   "metadata": {
    "ExecuteTime": {
     "end_time": "2018-09-10T07:18:39.528422Z",
     "start_time": "2018-09-10T07:18:11.930068Z"
    },
    "colab": {
     "base_uri": "https://localhost:8080/",
     "height": 35
    },
    "colab_type": "code",
    "executionInfo": {
     "elapsed": 6248329,
     "status": "ok",
     "timestamp": 1559984191699,
     "user": {
      "displayName": "Alan Luis Vergel Juárez",
      "photoUrl": "",
      "userId": "17609825801325148392"
     },
     "user_tz": 300
    },
    "id": "CDGn0V3X95jM",
    "outputId": "27fb5e15-5f5d-4808-bfd3-0f54a26c5990"
   },
   "outputs": [
    {
     "name": "stdout",
     "output_type": "stream",
     "text": [
      "..\\data\\source\n",
      "Number of frames 301\n"
     ]
    },
    {
     "name": "stderr",
     "output_type": "stream",
     "text": [
      "\n",
      "  0%|                                                                                          | 0/301 [00:00<?, ?it/s]"
     ]
    },
    {
     "ename": "RuntimeError",
     "evalue": "CUDA error: the launch timed out and was terminated",
     "output_type": "error",
     "traceback": [
      "\u001b[1;31m---------------------------------------------------------------------------\u001b[0m",
      "\u001b[1;31mRuntimeError\u001b[0m                              Traceback (most recent call last)",
      "\u001b[1;32m<ipython-input-16-4e18c3b363bf>\u001b[0m in \u001b[0;36m<module>\u001b[1;34m\u001b[0m\n\u001b[0;32m     39\u001b[0m     \u001b[0mmultiplier\u001b[0m \u001b[1;33m=\u001b[0m \u001b[0mget_multiplier\u001b[0m\u001b[1;33m(\u001b[0m\u001b[0mimg\u001b[0m\u001b[1;33m)\u001b[0m\u001b[1;33m\u001b[0m\u001b[1;33m\u001b[0m\u001b[0m\n\u001b[0;32m     40\u001b[0m     \u001b[1;32mwith\u001b[0m \u001b[0mtorch\u001b[0m\u001b[1;33m.\u001b[0m\u001b[0mno_grad\u001b[0m\u001b[1;33m(\u001b[0m\u001b[1;33m)\u001b[0m\u001b[1;33m:\u001b[0m\u001b[1;33m\u001b[0m\u001b[1;33m\u001b[0m\u001b[0m\n\u001b[1;32m---> 41\u001b[1;33m         \u001b[0mpaf\u001b[0m\u001b[1;33m,\u001b[0m \u001b[0mheatmap\u001b[0m \u001b[1;33m=\u001b[0m \u001b[0mget_outputs\u001b[0m\u001b[1;33m(\u001b[0m\u001b[0mmultiplier\u001b[0m\u001b[1;33m,\u001b[0m \u001b[0mimg\u001b[0m\u001b[1;33m,\u001b[0m \u001b[0mmodel\u001b[0m\u001b[1;33m,\u001b[0m \u001b[1;34m'rtpose'\u001b[0m\u001b[1;33m)\u001b[0m\u001b[1;33m\u001b[0m\u001b[1;33m\u001b[0m\u001b[0m\n\u001b[0m\u001b[0;32m     42\u001b[0m     r_heatmap = np.array([remove_noise(ht)\n\u001b[0;32m     43\u001b[0m                       for ht in heatmap.transpose(2, 0, 1)[:-1]])\\\n",
      "\u001b[1;32mF:\\Documentos\\Repositorios\\Edu\\Secure and Private AI\\code\\fortnite_dances_real_life\\src\\pytorch_Realtime_Multi-Person_Pose_Estimation\\evaluate\\coco_eval.py\u001b[0m in \u001b[0;36mget_outputs\u001b[1;34m(multiplier, img, model, preprocess)\u001b[0m\n\u001b[0;32m    134\u001b[0m \u001b[1;33m\u001b[0m\u001b[0m\n\u001b[0;32m    135\u001b[0m     \u001b[1;31m# several scales as a batch\u001b[0m\u001b[1;33m\u001b[0m\u001b[1;33m\u001b[0m\u001b[1;33m\u001b[0m\u001b[0m\n\u001b[1;32m--> 136\u001b[1;33m     \u001b[0mbatch_var\u001b[0m \u001b[1;33m=\u001b[0m \u001b[0mtorch\u001b[0m\u001b[1;33m.\u001b[0m\u001b[0mfrom_numpy\u001b[0m\u001b[1;33m(\u001b[0m\u001b[0mbatch_images\u001b[0m\u001b[1;33m)\u001b[0m\u001b[1;33m.\u001b[0m\u001b[0mcuda\u001b[0m\u001b[1;33m(\u001b[0m\u001b[1;33m)\u001b[0m\u001b[1;33m.\u001b[0m\u001b[0mfloat\u001b[0m\u001b[1;33m(\u001b[0m\u001b[1;33m)\u001b[0m\u001b[1;33m\u001b[0m\u001b[1;33m\u001b[0m\u001b[0m\n\u001b[0m\u001b[0;32m    137\u001b[0m     \u001b[0mpredicted_outputs\u001b[0m\u001b[1;33m,\u001b[0m \u001b[0m_\u001b[0m \u001b[1;33m=\u001b[0m \u001b[0mmodel\u001b[0m\u001b[1;33m(\u001b[0m\u001b[0mbatch_var\u001b[0m\u001b[1;33m)\u001b[0m\u001b[1;33m\u001b[0m\u001b[1;33m\u001b[0m\u001b[0m\n\u001b[0;32m    138\u001b[0m     \u001b[0moutput1\u001b[0m\u001b[1;33m,\u001b[0m \u001b[0moutput2\u001b[0m \u001b[1;33m=\u001b[0m \u001b[0mpredicted_outputs\u001b[0m\u001b[1;33m[\u001b[0m\u001b[1;33m-\u001b[0m\u001b[1;36m2\u001b[0m\u001b[1;33m]\u001b[0m\u001b[1;33m,\u001b[0m \u001b[0mpredicted_outputs\u001b[0m\u001b[1;33m[\u001b[0m\u001b[1;33m-\u001b[0m\u001b[1;36m1\u001b[0m\u001b[1;33m]\u001b[0m\u001b[1;33m\u001b[0m\u001b[1;33m\u001b[0m\u001b[0m\n",
      "\u001b[1;31mRuntimeError\u001b[0m: CUDA error: the launch timed out and was terminated"
     ]
    }
   ],
   "source": [
    "print(save_dir)\n",
    "# Source images\n",
    "test_img_dir = save_dir.joinpath('test_img')\n",
    "try:\n",
    "    test_img_dir.mkdir(exist_ok=True)\n",
    "except FileExistsError:\n",
    "    print(\"Directory exists\")\n",
    "    \n",
    "\n",
    "# Label images\n",
    "test_label_dir = save_dir.joinpath('test_label_ori')\n",
    "try:\n",
    "    test_label_dir.mkdir(exist_ok=True)\n",
    "except FileExistsError:\n",
    "    print(\"Directory exists\")\n",
    "\n",
    "# Head images\n",
    "test_head_dir  = save_dir.joinpath('test_head_ori')\n",
    "try:\n",
    "    test_head_dir.mkdir(exist_ok = True)\n",
    "except FileExistsError:\n",
    "    print(\"Directory exists\")\n",
    "\n",
    "NUM_FRAMES = len(os.listdir(str(img_dir)))\n",
    "print(\"Number of frames\", NUM_FRAMES)\n",
    "\n",
    "\n",
    "pose_cords = []\n",
    "\n",
    "for idx in tqdm(range(NUM_FRAMES)):\n",
    "    img_path = img_dir.joinpath('{:05d}.png'.format(idx))\n",
    "    img = cv2.imread(str(img_path))\n",
    "    shape_dst = np.min(img.shape[:2])\n",
    "    oh = (img.shape[0] - shape_dst) // 2\n",
    "    ow = (img.shape[1] - shape_dst) // 2\n",
    "\n",
    "    img = img[oh:oh+shape_dst, ow:ow+shape_dst]\n",
    "    img = cv2.resize(img, (512, 512))\n",
    "    multiplier = get_multiplier(img)\n",
    "    with torch.no_grad(): \n",
    "        paf, heatmap = get_outputs(multiplier, img, model, 'rtpose')\n",
    "    r_heatmap = np.array([remove_noise(ht)\n",
    "                      for ht in heatmap.transpose(2, 0, 1)[:-1]])\\\n",
    "                     .transpose(1, 2, 0)\n",
    "    heatmap[:, :, :-1] = r_heatmap\n",
    "    param = {'thre1': 0.1, 'thre2': 0.05, 'thre3': 0.5}\n",
    "    label, cord  = get_pose(param, heatmap, paf)\n",
    "    index = 13\n",
    "    crop_size =  25\n",
    "    try: \n",
    "        head_cord = cord[index]\n",
    "    except:\n",
    "        head_cord = pose_cords[-1] # if there is no head point in this picture.\n",
    "        #Use las frame head point\n",
    "        \n",
    "    pose_cords.extend([head_cord])\n",
    "    head = img[ int(head_cord[1] - crop_size)  :int(head_cord[1] + crop_size),\n",
    "                int(head_cord[0] - crop_size ) :int(head_cord[0] + crop_size),:\n",
    "              ]\n",
    "    \n",
    "    #Show head\n",
    "    plt.imshow(head)\n",
    "    plt.savefig(str( test_head_dir.joinpath('pose_{}.jpg'.format(idx))))\n",
    "    plt.clf()\n",
    "    \n",
    "    \n",
    "    cv2.imwrite(str(test_img_dir.joinpath( '{:05}.png'.format(idx))), img)\n",
    "    cv2.imwrite(str(test_label_dir.joinpath( '{:05}.png'.format(idx))), label)\n",
    "    \n",
    "    if idx % 100 == 0 and idx != 0:\n",
    "        pose_cords_arr = np.array(pose_cords, dtype = np.int)\n",
    "        # Save pose coordinates array.\n",
    "        np.save(str(save_dir.joinpath('pose_source.npy')), pose_cords_arr)\n",
    "\n",
    "pose_cords_arr = np.array( pose_cords, dtype = np.int )\n",
    "np.save( str(save_dir.joinpath('pose_source.npy')), pose_cords_arr )\n",
    "        \n",
    "    \n",
    "torch.cuda.empty_cache()"
   ]
  },
  {
   "cell_type": "code",
   "execution_count": null,
   "metadata": {
    "colab": {
     "base_uri": "https://localhost:8080/",
     "height": 35
    },
    "colab_type": "code",
    "executionInfo": {
     "elapsed": 279,
     "status": "ok",
     "timestamp": 1559977930126,
     "user": {
      "displayName": "Alan Luis Vergel Juárez",
      "photoUrl": "",
      "userId": "17609825801325148392"
     },
     "user_tz": 300
    },
    "id": "_G1ZoynL95jW",
    "outputId": "77e50ffe-1ac4-474f-eb27-c9c62b68fd1e"
   },
   "outputs": [],
   "source": [
    "len(os.listdir(str(img_dir)))"
   ]
  },
  {
   "cell_type": "code",
   "execution_count": null,
   "metadata": {
    "colab": {},
    "colab_type": "code",
    "id": "elT-wai3J0fb"
   },
   "outputs": [],
   "source": []
  }
 ],
 "metadata": {
  "accelerator": "GPU",
  "colab": {
   "collapsed_sections": [],
   "name": "1.make_source_images.ipynb",
   "provenance": [],
   "version": "0.3.2"
  },
  "kernelspec": {
   "display_name": "privateai",
   "language": "python",
   "name": "privateai"
  },
  "language_info": {
   "codemirror_mode": {
    "name": "ipython",
    "version": 3
   },
   "file_extension": ".py",
   "mimetype": "text/x-python",
   "name": "python",
   "nbconvert_exporter": "python",
   "pygments_lexer": "ipython3",
   "version": "3.6.8"
  }
 },
 "nbformat": 4,
 "nbformat_minor": 1
}
