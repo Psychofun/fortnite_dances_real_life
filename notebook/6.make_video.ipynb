{
 "cells": [
  {
   "cell_type": "markdown",
   "metadata": {
    "colab_type": "text",
    "id": "iviktHq539xZ"
   },
   "source": [
    "# Mount File System"
   ]
  },
  {
   "cell_type": "code",
   "execution_count": null,
   "metadata": {
    "colab": {
     "base_uri": "https://localhost:8080/",
     "height": 35
    },
    "colab_type": "code",
    "executionInfo": {
     "elapsed": 339,
     "status": "ok",
     "timestamp": 1560012920858,
     "user": {
      "displayName": "Alan Luis Vergel Juárez",
      "photoUrl": "",
      "userId": "17609825801325148392"
     },
     "user_tz": 300
    },
    "id": "PeeAR4O94BHJ",
    "outputId": "ef68517e-8a57-4b5a-e949-e43b67458ed9"
   },
   "outputs": [],
   "source": [
    "from google.colab import drive\n",
    "drive.mount('/content/drive')"
   ]
  },
  {
   "cell_type": "markdown",
   "metadata": {
    "colab_type": "text",
    "id": "KW7iDb6U4GDH"
   },
   "source": [
    "# Change working directory"
   ]
  },
  {
   "cell_type": "code",
   "execution_count": null,
   "metadata": {
    "colab": {
     "base_uri": "https://localhost:8080/",
     "height": 256
    },
    "colab_type": "code",
    "executionInfo": {
     "elapsed": 1814,
     "status": "ok",
     "timestamp": 1560012925734,
     "user": {
      "displayName": "Alan Luis Vergel Juárez",
      "photoUrl": "",
      "userId": "17609825801325148392"
     },
     "user_tz": 300
    },
    "id": "VgWki6vc4DP6",
    "outputId": "86478fb8-599a-4c2f-da2a-bb5903beacbd"
   },
   "outputs": [],
   "source": [
    "!ls"
   ]
  },
  {
   "cell_type": "code",
   "execution_count": null,
   "metadata": {
    "colab": {
     "base_uri": "https://localhost:8080/",
     "height": 35
    },
    "colab_type": "code",
    "executionInfo": {
     "elapsed": 1948,
     "status": "ok",
     "timestamp": 1560012928058,
     "user": {
      "displayName": "Alan Luis Vergel Juárez",
      "photoUrl": "",
      "userId": "17609825801325148392"
     },
     "user_tz": 300
    },
    "id": "l3rrzVUf4RPR",
    "outputId": "f282f00e-a5b4-40a2-d0b9-ef63bb625427"
   },
   "outputs": [],
   "source": [
    "!ls 'drive/My Drive/pytorch-EverybodyDanceNow/notebook'"
   ]
  },
  {
   "cell_type": "code",
   "execution_count": null,
   "metadata": {
    "colab": {
     "base_uri": "https://localhost:8080/",
     "height": 191
    },
    "colab_type": "code",
    "executionInfo": {
     "elapsed": 910,
     "status": "error",
     "timestamp": 1560012928062,
     "user": {
      "displayName": "Alan Luis Vergel Juárez",
      "photoUrl": "",
      "userId": "17609825801325148392"
     },
     "user_tz": 300
    },
    "id": "6MKdbK3e4bm4",
    "outputId": "1027fc15-37ad-418c-aa98-648f76f0f542"
   },
   "outputs": [],
   "source": [
    "import os\n",
    "os.chdir('drive/My Drive/pytorch-EverybodyDanceNow/notebook')"
   ]
  },
  {
   "cell_type": "code",
   "execution_count": null,
   "metadata": {
    "ExecuteTime": {
     "end_time": "2018-09-10T07:21:15.052627Z",
     "start_time": "2018-09-10T07:21:14.673476Z"
    },
    "colab": {},
    "colab_type": "code",
    "id": "5ZzyEQmq2i5l"
   },
   "outputs": [],
   "source": [
    "import numpy as np\n",
    "import matplotlib.pyplot as plt\n",
    "import cv2\n",
    "from pathlib import Path\n",
    "from skimage import io\n",
    "\n",
    "import matplotlib.animation as ani\n",
    "from IPython.display import HTML\n",
    "import matplotlib\n",
    "matplotlib.rcParams['animation.embed_limit'] = 1000\n",
    "%matplotlib inline"
   ]
  },
  {
   "cell_type": "code",
   "execution_count": null,
   "metadata": {
    "ExecuteTime": {
     "end_time": "2018-09-10T07:21:15.445801Z",
     "start_time": "2018-09-10T07:21:15.440585Z"
    },
    "colab": {},
    "colab_type": "code",
    "id": "AaH3QiqT2i51"
   },
   "outputs": [],
   "source": [
    "source_dir = Path('../data/source/test_img')\n",
    "target_dir = Path('../results/target/test_latest/images')"
   ]
  },
  {
   "cell_type": "code",
   "execution_count": null,
   "metadata": {
    "ExecuteTime": {
     "end_time": "2018-09-10T07:21:16.041668Z",
     "start_time": "2018-09-10T07:21:16.015950Z"
    },
    "colab": {
     "base_uri": "https://localhost:8080/",
     "height": 35
    },
    "colab_type": "code",
    "executionInfo": {
     "elapsed": 800,
     "status": "ok",
     "timestamp": 1560013127651,
     "user": {
      "displayName": "Alan Luis Vergel Juárez",
      "photoUrl": "",
      "userId": "17609825801325148392"
     },
     "user_tz": 300
    },
    "id": "nIV73M0K2i58",
    "outputId": "4c85809c-93f7-4557-8f99-e2ba9e20e4ce"
   },
   "outputs": [],
   "source": [
    "source_img_paths = sorted(source_dir.iterdir())\n",
    "target_synth_paths = sorted(target_dir.glob('*synthesized*'))\n",
    "target_label_paths = sorted(target_dir.glob('*input*'))\n",
    "\n",
    "len(source_img_paths) == len(target_synth_paths) == len(target_label_paths)"
   ]
  },
  {
   "cell_type": "code",
   "execution_count": null,
   "metadata": {
    "ExecuteTime": {
     "end_time": "2018-09-10T07:21:16.768047Z",
     "start_time": "2018-09-10T07:21:16.731298Z"
    },
    "colab": {},
    "colab_type": "code",
    "id": "NLevj-yv2i6K"
   },
   "outputs": [],
   "source": [
    "from tqdm import tqdm\n",
    "\n",
    "def animate(nframe):\n",
    "    ax1.clear()\n",
    "    ax2.clear()\n",
    "    ax3.clear()\n",
    "\n",
    "    source_img = io.imread(source_img_paths[nframe])\n",
    "    ax1.imshow(source_img)\n",
    "    ax1.set_xticks([])\n",
    "    ax1.set_yticks([])\n",
    "    \n",
    "    target_label = io.imread(target_label_paths[nframe])\n",
    "    ax2.imshow(target_label)\n",
    "    ax2.set_xticks([])\n",
    "    ax2.set_yticks([])\n",
    "    \n",
    "    target_synth = io.imread(target_synth_paths[nframe])\n",
    "    ax3.imshow(target_synth)\n",
    "    ax3.set_xticks([])\n",
    "    ax3.set_yticks([])    \n",
    "\n",
    "def animate2(nframe):\n",
    "    ax1.clear()\n",
    "    ax1.axis('off')\n",
    "    target_synth = io.imread(target_synth_paths[nframe])\n",
    "    ax1.imshow(target_synth)\n"
   ]
  },
  {
   "cell_type": "code",
   "execution_count": null,
   "metadata": {
    "colab": {
     "base_uri": "https://localhost:8080/",
     "height": 35
    },
    "colab_type": "code",
    "executionInfo": {
     "elapsed": 325,
     "status": "ok",
     "timestamp": 1560013173029,
     "user": {
      "displayName": "Alan Luis Vergel Juárez",
      "photoUrl": "",
      "userId": "17609825801325148392"
     },
     "user_tz": 300
    },
    "id": "tzP4RY0u6iwA",
    "outputId": "8db2ca67-57f4-4b3a-94a0-bb48aca4b2b8"
   },
   "outputs": [],
   "source": [
    "num_frames =len(source_img_paths)\n",
    "print(\"number of frames:\", num_frames)"
   ]
  },
  {
   "cell_type": "markdown",
   "metadata": {
    "colab_type": "text",
    "id": "V9xso5PH2i6U"
   },
   "source": [
    "# Write Video"
   ]
  },
  {
   "cell_type": "code",
   "execution_count": null,
   "metadata": {
    "colab": {
     "base_uri": "https://localhost:8080/",
     "height": 648
    },
    "colab_type": "code",
    "executionInfo": {
     "elapsed": 846722,
     "status": "ok",
     "timestamp": 1560014022755,
     "user": {
      "displayName": "Alan Luis Vergel Juárez",
      "photoUrl": "",
      "userId": "17609825801325148392"
     },
     "user_tz": 300
    },
    "id": "XGwaNoH92i6X",
    "outputId": "15fc7668-efa2-4038-fe32-591964e7e2fb"
   },
   "outputs": [],
   "source": [
    "from matplotlib.animation import FFMpegWriter\n",
    "plt.close()\n",
    "plt.axis('off')\n",
    "fig = plt.figure(figsize=(6.0, 6.0))\n",
    "ax1 = fig.add_subplot(111)\n",
    "ax1.axis('off')\n",
    "\n",
    "\n",
    "\n",
    "\n",
    "metadata = dict(title='Movie Test', artist='IA',\n",
    "                comment='Movie support!')\n",
    "writer = FFMpegWriter(fps=30, metadata=metadata)\n",
    "\n",
    "with writer.saving(fig, 'output_name.mp4', dpi=100):\n",
    "    for j in tqdm(range(1882)):\n",
    "        animate2(j)\n",
    "        writer.grab_frame()"
   ]
  },
  {
   "cell_type": "code",
   "execution_count": null,
   "metadata": {
    "colab": {},
    "colab_type": "code",
    "id": "wU4U-t0N2i7C"
   },
   "outputs": [],
   "source": []
  }
 ],
 "metadata": {
  "colab": {
   "collapsed_sections": [],
   "name": "6.make_gif.ipynb",
   "provenance": [],
   "version": "0.3.2"
  },
  "kernelspec": {
   "display_name": "Python 3",
   "language": "python",
   "name": "python3"
  },
  "language_info": {
   "codemirror_mode": {
    "name": "ipython",
    "version": 3
   },
   "file_extension": ".py",
   "mimetype": "text/x-python",
   "name": "python",
   "nbconvert_exporter": "python",
   "pygments_lexer": "ipython3",
   "version": "3.5.4"
  }
 },
 "nbformat": 4,
 "nbformat_minor": 1
}
