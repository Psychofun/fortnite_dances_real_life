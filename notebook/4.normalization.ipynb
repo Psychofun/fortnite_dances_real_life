{
 "cells": [
  {
   "cell_type": "markdown",
   "metadata": {},
   "source": [
    "in progress..."
   ]
  },
  {
   "cell_type": "markdown",
   "metadata": {},
   "source": [
    "# Mount File System"
   ]
  },
  {
   "cell_type": "code",
   "execution_count": null,
   "metadata": {},
   "outputs": [],
   "source": [
    "from google.colab import drive\n",
    "drive.mount('/content/drive')"
   ]
  },
  {
   "cell_type": "markdown",
   "metadata": {},
   "source": [
    "## Change working directory "
   ]
  },
  {
   "cell_type": "code",
   "execution_count": null,
   "metadata": {},
   "outputs": [],
   "source": [
    "!ls  "
   ]
  },
  {
   "cell_type": "code",
   "execution_count": null,
   "metadata": {},
   "outputs": [],
   "source": [
    "!ls 'drive/My Drive/pytorch-EverybodyDanceNow/notebook'"
   ]
  },
  {
   "cell_type": "code",
   "execution_count": null,
   "metadata": {},
   "outputs": [],
   "source": [
    "import os \n",
    "os.chdir('drive/My Drive/pytorch-EverybodyDanceNow/notebook')"
   ]
  },
  {
   "cell_type": "code",
   "execution_count": null,
   "metadata": {},
   "outputs": [],
   "source": [
    "import numpy as np\n",
    "import matplotlib.pyplot as plt \n",
    "import cv2\n",
    "from pathlib import Path\n"
   ]
  },
  {
   "cell_type": "code",
   "execution_count": null,
   "metadata": {},
   "outputs": [],
   "source": [
    "target_img = cv2.imread('../data/target.png')[:,:,0]\n",
    "target_img_rgb = cv2.imread('../data/target.png')\n",
    "\n",
    "source_img = cv2.imread('../data/source.png')[:,:,0]\n",
    "\n",
    "source_img_rgb = cv2.imread('../data/source.png')"
   ]
  },
  {
   "cell_type": "code",
   "execution_count": null,
   "metadata": {},
   "outputs": [],
   "source": [
    "plt.subplot(222)\n",
    "plt.imshow(target_img)\n",
    "plt.subplot(221)\n",
    "plt.imshow(target_img_rgb)\n",
    "plt.subplot(224)\n",
    "plt.imshow(source_img)\n",
    "plt.subplot(223)\n",
    "plt.imshow(source_img_rgb)\n",
    "plt.savefig('norm.png')\n",
    "plt.show()"
   ]
  },
  {
   "cell_type": "code",
   "execution_count": null,
   "metadata": {},
   "outputs": [],
   "source": [
    "def get_scale(label_img):\n",
    "    \"\"\"\n",
    "    label_img: numpy array\n",
    "        stick man pose representation\n",
    "    \n",
    "    return range of colors  and height\n",
    "    \n",
    "    \n",
    "    \"\"\"\n",
    "   \n",
    "    any1 = label_img.any(axis = 1) # Check if each row as entry > 0. Values  >0 indicates stick man.\n",
    "    \n",
    "    \n",
    "    linspace1 = np.arange(len(any1))\n",
    "    \n",
    "    # Get most rigth   position and height of image\n",
    "    head_x, height = linspace1[list(any1)][0],len( linspace1[list(any1)])\n",
    "    \n",
    "    any0 = label_img[head_x, : ] != 0 \n",
    "    \n",
    "    linspace2 = np.arange(len(any0))\n",
    "    \n",
    "    # mean y position.\n",
    "    head_y = int(np.mean(linspace2[list(any0)])) \n",
    "    \n",
    "    return (head_x,head_y),height"
   ]
  },
  {
   "cell_type": "code",
   "execution_count": null,
   "metadata": {},
   "outputs": [],
   "source": [
    "target_head, target_heigth = get_scale(target_img)\n",
    "\n",
    "target_head, target_heigth"
   ]
  },
  {
   "cell_type": "code",
   "execution_count": null,
   "metadata": {},
   "outputs": [],
   "source": [
    "new_head_pose = []\n",
    "path = '../data/source/'\n",
    "\n",
    "imgs_names = []\n"
   ]
  },
  {
   "cell_type": "code",
   "execution_count": null,
   "metadata": {},
   "outputs": [],
   "source": []
  }
 ],
 "metadata": {
  "kernelspec": {
   "display_name": "privateai",
   "language": "python",
   "name": "privateai"
  },
  "language_info": {
   "codemirror_mode": {
    "name": "ipython",
    "version": 3
   },
   "file_extension": ".py",
   "mimetype": "text/x-python",
   "name": "python",
   "nbconvert_exporter": "python",
   "pygments_lexer": "ipython3",
   "version": "3.6.8"
  }
 },
 "nbformat": 4,
 "nbformat_minor": 2
}
