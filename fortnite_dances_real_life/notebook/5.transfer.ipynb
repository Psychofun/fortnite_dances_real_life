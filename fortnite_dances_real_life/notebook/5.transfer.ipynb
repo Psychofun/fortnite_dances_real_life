{
 "cells": [
  {
   "cell_type": "markdown",
   "metadata": {
    "colab_type": "text",
    "id": "iPVYyjCVyYhW"
   },
   "source": [
    "# Mount File System"
   ]
  },
  {
   "cell_type": "markdown",
   "metadata": {
    "colab_type": "text",
    "id": "QnsPltXNyfy0"
   },
   "source": [
    "# Running or importing .py Files"
   ]
  },
  {
   "cell_type": "code",
   "execution_count": null,
   "metadata": {
    "colab": {
     "base_uri": "https://localhost:8080/",
     "height": 129
    },
    "colab_type": "code",
    "executionInfo": {
     "elapsed": 42109,
     "status": "ok",
     "timestamp": 1560008480403,
     "user": {
      "displayName": "Alan Luis Vergel Juárez",
      "photoUrl": "",
      "userId": "17609825801325148392"
     },
     "user_tz": 300
    },
    "id": "YLpWMToRyah2",
    "outputId": "6f621eb0-1861-495c-8694-962cf11ffc04"
   },
   "outputs": [],
   "source": [
    "from google.colab import drive\n",
    "drive.mount('/content/drive')"
   ]
  },
  {
   "cell_type": "markdown",
   "metadata": {
    "colab_type": "text",
    "id": "EaGdEbRTyrWO"
   },
   "source": [
    "# Change working directory"
   ]
  },
  {
   "cell_type": "code",
   "execution_count": null,
   "metadata": {
    "colab": {
     "base_uri": "https://localhost:8080/",
     "height": 35
    },
    "colab_type": "code",
    "executionInfo": {
     "elapsed": 23250,
     "status": "ok",
     "timestamp": 1560008482289,
     "user": {
      "displayName": "Alan Luis Vergel Juárez",
      "photoUrl": "",
      "userId": "17609825801325148392"
     },
     "user_tz": 300
    },
    "id": "MhVsn7KUycuI",
    "outputId": "216c505b-bc0b-4bd2-9fc7-a7a1f8f5641a"
   },
   "outputs": [],
   "source": [
    "!ls"
   ]
  },
  {
   "cell_type": "code",
   "execution_count": null,
   "metadata": {
    "colab": {
     "base_uri": "https://localhost:8080/",
     "height": 256
    },
    "colab_type": "code",
    "executionInfo": {
     "elapsed": 25788,
     "status": "ok",
     "timestamp": 1560008485156,
     "user": {
      "displayName": "Alan Luis Vergel Juárez",
      "photoUrl": "",
      "userId": "17609825801325148392"
     },
     "user_tz": 300
    },
    "id": "GVfpkPZgyudP",
    "outputId": "a54993b2-1034-485a-bd68-3934103cd7dd"
   },
   "outputs": [],
   "source": [
    "!ls 'drive/My Drive/pytorch-EverybodyDanceNow/notebook'"
   ]
  },
  {
   "cell_type": "code",
   "execution_count": null,
   "metadata": {
    "colab": {},
    "colab_type": "code",
    "id": "Gl2kzBZpyzGn"
   },
   "outputs": [],
   "source": [
    "import os\n",
    "os.chdir('drive/My Drive/pytorch-EverybodyDanceNow/notebook')"
   ]
  },
  {
   "cell_type": "code",
   "execution_count": null,
   "metadata": {
    "ExecuteTime": {
     "end_time": "2018-09-10T07:20:21.456266Z",
     "start_time": "2018-09-10T07:20:21.182468Z"
    },
    "colab": {},
    "colab_type": "code",
    "id": "5pSPPUpTu0pk"
   },
   "outputs": [],
   "source": [
    "import os\n",
    "import numpy as np\n",
    "import torch\n",
    "import time\n",
    "import pickle\n",
    "import matplotlib.pyplot as plt\n",
    "from collections import OrderedDict\n",
    "from torch.autograd import Variable\n",
    "from pathlib import Path\n",
    "from tqdm import tqdm\n",
    "\n",
    "%matplotlib inline"
   ]
  },
  {
   "cell_type": "code",
   "execution_count": null,
   "metadata": {
    "ExecuteTime": {
     "end_time": "2018-09-10T07:20:21.808633Z",
     "start_time": "2018-09-10T07:20:21.778666Z"
    },
    "colab": {
     "base_uri": "https://localhost:8080/",
     "height": 55
    },
    "colab_type": "code",
    "executionInfo": {
     "elapsed": 23183,
     "status": "ok",
     "timestamp": 1560008486433,
     "user": {
      "displayName": "Alan Luis Vergel Juárez",
      "photoUrl": "",
      "userId": "17609825801325148392"
     },
     "user_tz": 300
    },
    "id": "cjyIqBp7u0py",
    "outputId": "fbee522d-2233-48c0-f08e-24b986865186"
   },
   "outputs": [],
   "source": [
    "pix2pixhd_dir = Path('../src/pix2pixHD/')\n",
    "\n",
    "import sys\n",
    "sys.path.append(str(pix2pixhd_dir))\n",
    "print(sys.path)\n",
    "\n"
   ]
  },
  {
   "cell_type": "code",
   "execution_count": null,
   "metadata": {
    "colab": {
     "base_uri": "https://localhost:8080/",
     "height": 72
    },
    "colab_type": "code",
    "executionInfo": {
     "elapsed": 25115,
     "status": "ok",
     "timestamp": 1560008489120,
     "user": {
      "displayName": "Alan Luis Vergel Juárez",
      "photoUrl": "",
      "userId": "17609825801325148392"
     },
     "user_tz": 300
    },
    "id": "BvBg7ExN0o1G",
    "outputId": "89a8d0e8-d592-4095-cccb-7e11bcaa49b3"
   },
   "outputs": [],
   "source": [
    "!ls '../src/pix2pixHD/data'"
   ]
  },
  {
   "cell_type": "markdown",
   "metadata": {
    "colab_type": "text",
    "id": "8hbnhJVV0Foc"
   },
   "source": [
    "# Autoreload "
   ]
  },
  {
   "cell_type": "code",
   "execution_count": null,
   "metadata": {
    "colab": {},
    "colab_type": "code",
    "id": "H33w62QK0IUl"
   },
   "outputs": [],
   "source": [
    "%load_ext autoreload\n",
    "%autoreload 2"
   ]
  },
  {
   "cell_type": "markdown",
   "metadata": {
    "colab_type": "text",
    "id": "nbXafJFq2WI-"
   },
   "source": [
    "# Install dominate "
   ]
  },
  {
   "cell_type": "code",
   "execution_count": null,
   "metadata": {
    "colab": {
     "base_uri": "https://localhost:8080/",
     "height": 90
    },
    "colab_type": "code",
    "executionInfo": {
     "elapsed": 4410,
     "status": "ok",
     "timestamp": 1560008605301,
     "user": {
      "displayName": "Alan Luis Vergel Juárez",
      "photoUrl": "",
      "userId": "17609825801325148392"
     },
     "user_tz": 300
    },
    "id": "Qi7jn_WJ2Y6M",
    "outputId": "50ecb75a-3122-410d-fc8a-192541eb3052"
   },
   "outputs": [],
   "source": [
    "!pip install dominate"
   ]
  },
  {
   "cell_type": "code",
   "execution_count": null,
   "metadata": {
    "ExecuteTime": {
     "end_time": "2018-09-10T07:20:22.295862Z",
     "start_time": "2018-09-10T07:20:22.247818Z"
    },
    "colab": {},
    "colab_type": "code",
    "id": "QwqtCTaAu0p6"
   },
   "outputs": [],
   "source": [
    "from data.data_loader import CreateDataLoader\n",
    "from models.models import create_model\n",
    "import util.util as util\n",
    "from util.visualizer import Visualizer\n",
    "from util import html"
   ]
  },
  {
   "cell_type": "code",
   "execution_count": null,
   "metadata": {
    "ExecuteTime": {
     "end_time": "2018-09-10T07:20:23.551660Z",
     "start_time": "2018-09-10T07:20:23.541934Z"
    },
    "colab": {
     "base_uri": "https://localhost:8080/",
     "height": 35
    },
    "colab_type": "code",
    "executionInfo": {
     "elapsed": 961,
     "status": "ok",
     "timestamp": 1560009346741,
     "user": {
      "displayName": "Alan Luis Vergel Juárez",
      "photoUrl": "",
      "userId": "17609825801325148392"
     },
     "user_tz": 300
    },
    "id": "Zb50y8AEu0qB",
    "outputId": "a817620e-a538-4e61-df6d-503364f189bb"
   },
   "outputs": [],
   "source": [
    "with open('../data/test_opt.pkl', mode='rb') as f:\n",
    "    opt = pickle.load(f)\n",
    "    \n",
    "iter_path = os.path.join(opt.checkpoints_dir, opt.name, 'iter.txt')\n",
    "opt.results_dir"
   ]
  },
  {
   "cell_type": "code",
   "execution_count": null,
   "metadata": {
    "ExecuteTime": {
     "end_time": "2018-09-10T07:20:24.277739Z",
     "start_time": "2018-09-10T07:20:24.114263Z"
    },
    "colab": {
     "base_uri": "https://localhost:8080/",
     "height": 54
    },
    "colab_type": "code",
    "executionInfo": {
     "elapsed": 496,
     "status": "ok",
     "timestamp": 1560009346746,
     "user": {
      "displayName": "Alan Luis Vergel Juárez",
      "photoUrl": "",
      "userId": "17609825801325148392"
     },
     "user_tz": 300
    },
    "id": "F2b3Eogzu0qK",
    "outputId": "3fee4c51-852a-4e25-b53c-27f46a622e30"
   },
   "outputs": [],
   "source": [
    "data_loader = CreateDataLoader(opt)\n",
    "dataset = data_loader.load_data()\n",
    "visualizer = Visualizer(opt)\n",
    "# create website\n",
    "web_dir = os.path.join(opt.results_dir, opt.name, '%s_%s' % (opt.phase, opt.which_epoch))\n",
    "webpage = html.HTML(web_dir, 'Experiment = %s, Phase = %s, Epoch = %s' % (opt.name, opt.phase, opt.which_epoch))"
   ]
  },
  {
   "cell_type": "code",
   "execution_count": null,
   "metadata": {
    "ExecuteTime": {
     "end_time": "2018-09-10T07:20:29.388782Z",
     "start_time": "2018-09-10T07:20:26.586791Z"
    },
    "colab": {
     "base_uri": "https://localhost:8080/",
     "height": 2478
    },
    "colab_type": "code",
    "executionInfo": {
     "elapsed": 34647,
     "status": "ok",
     "timestamp": 1560008806316,
     "user": {
      "displayName": "Alan Luis Vergel Juárez",
      "photoUrl": "",
      "userId": "17609825801325148392"
     },
     "user_tz": 300
    },
    "id": "Bgow8JwYu0qS",
    "outputId": "8335266f-dfb7-4f58-dc1e-6322e92913b1"
   },
   "outputs": [],
   "source": [
    "model = create_model(opt)"
   ]
  },
  {
   "cell_type": "code",
   "execution_count": null,
   "metadata": {
    "ExecuteTime": {
     "end_time": "2018-09-10T07:20:34.479096Z",
     "start_time": "2018-09-10T07:20:30.872933Z"
    },
    "colab": {
     "base_uri": "https://localhost:8080/",
     "height": 34657
    },
    "colab_type": "code",
    "executionInfo": {
     "elapsed": 1509102,
     "status": "ok",
     "timestamp": 1560010861071,
     "user": {
      "displayName": "Alan Luis Vergel Juárez",
      "photoUrl": "",
      "userId": "17609825801325148392"
     },
     "user_tz": 300
    },
    "id": "4Yhkd8UFu0qb",
    "outputId": "81e563c1-6df2-45ca-eeba-dc249e7c59ea"
   },
   "outputs": [],
   "source": [
    "for data in tqdm(dataset):\n",
    "    minibatch = 1 \n",
    "    generated = model.inference(data['label'], data['inst'])\n",
    "        \n",
    "    visuals = OrderedDict([('input_label', util.tensor2label(data['label'][0], opt.label_nc)),\n",
    "                           ('synthesized_image', util.tensor2im(generated.data[0]))])\n",
    "    img_path = data['path']\n",
    "    visualizer.save_images(webpage, visuals, img_path)\n",
    "webpage.save()\n",
    "torch.cuda.empty_cache()"
   ]
  }
 ],
 "metadata": {
  "accelerator": "GPU",
  "colab": {
   "collapsed_sections": [],
   "name": "5.transfer.ipynb",
   "provenance": [],
   "version": "0.3.2"
  },
  "kernelspec": {
   "display_name": "Python 3",
   "language": "python",
   "name": "python3"
  },
  "language_info": {
   "codemirror_mode": {
    "name": "ipython",
    "version": 3
   },
   "file_extension": ".py",
   "mimetype": "text/x-python",
   "name": "python",
   "nbconvert_exporter": "python",
   "pygments_lexer": "ipython3",
   "version": "3.5.4"
  }
 },
 "nbformat": 4,
 "nbformat_minor": 1
}
